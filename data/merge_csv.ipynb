{
 "cells": [
  {
   "cell_type": "code",
   "execution_count": null,
   "metadata": {},
   "outputs": [],
   "source": [
    "import os\n",
    "import pandas as pd\n",
    "\n",
    "def merge_csv_files(folder_path, output_file):\n",
    "    # Get list of CSV files in the folder\n",
    "    csv_files = [file for file in os.listdir(folder_path) if file.endswith('.csv')]\n",
    "    \n",
    "    # Initialize an empty list to store dataframes\n",
    "    dfs = []\n",
    "    \n",
    "    # Read each CSV file and append its dataframe to the list\n",
    "    for csv_file in csv_files:\n",
    "        file_path = os.path.join(folder_path, csv_file)\n",
    "        df = pd.read_csv(file_path)\n",
    "        dfs.append(df)\n",
    "    \n",
    "    # Concatenate all dataframes into a single dataframe\n",
    "    merged_df = pd.concat(dfs, ignore_index=True)\n",
    "    \n",
    "    # Write the merged dataframe to a CSV file\n",
    "    merged_df.to_csv(output_file, index=False)\n",
    "    \n",
    "    print(\"CSV files merged successfully!\")\n",
    "\n",
    "# Define folder path and output file name\n",
    "folder_path = \"../data\"\n",
    "output_file = \"merged_data.csv\"\n",
    "\n",
    "# Call the function to merge CSV files\n",
    "merge_csv_files(folder_path, output_file)\n"
   ]
  }
 ],
 "metadata": {
  "language_info": {
   "name": "python"
  }
 },
 "nbformat": 4,
 "nbformat_minor": 2
}
